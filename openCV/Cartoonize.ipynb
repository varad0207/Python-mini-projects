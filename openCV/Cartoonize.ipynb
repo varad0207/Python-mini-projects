{
 "cells": [
  {
   "cell_type": "code",
   "execution_count": 1,
   "id": "01d16715",
   "metadata": {},
   "outputs": [],
   "source": [
    "# importing opencv and numpy libraries\n",
    "import cv2\n",
    "import numpy as np"
   ]
  },
  {
   "cell_type": "code",
   "execution_count": 2,
   "id": "e03a53b4",
   "metadata": {},
   "outputs": [],
   "source": [
    "# Reading the image\n",
    "img = cv2.imread(\"image1.jpg\")"
   ]
  },
  {
   "cell_type": "code",
   "execution_count": 3,
   "id": "0089bd5f",
   "metadata": {},
   "outputs": [],
   "source": [
    "# Marking edges of the image\n",
    "gray = cv2.cvtColor(img, cv2.COLOR_BGR2GRAY)\n",
    "gray = cv2.medianBlur(gray, 7)\n",
    "edges = cv2.adaptiveThreshold(gray, 255, cv2.ADAPTIVE_THRESH_MEAN_C, \n",
    "                             cv2.THRESH_BINARY, 9, 10)"
   ]
  },
  {
   "cell_type": "code",
   "execution_count": 4,
   "id": "68b3cfea",
   "metadata": {},
   "outputs": [],
   "source": [
    "# Making cartoon of the image\n",
    "color = cv2.bilateralFilter(img, 12, 250, 250)\n",
    "cartoon = cv2.bitwise_and(color, color, mask=edges)"
   ]
  },
  {
   "cell_type": "code",
   "execution_count": 5,
   "id": "77594d04",
   "metadata": {},
   "outputs": [],
   "source": [
    "# Visualize the image\n",
    "cv2.imshow(\"Cartoon\", cartoon)\n",
    "cv2.waitKey(0)\n",
    "cv2.destroyAllWindows()"
   ]
  },
  {
   "cell_type": "code",
   "execution_count": 6,
   "id": "fef94f9f",
   "metadata": {},
   "outputs": [
    {
     "data": {
      "text/plain": [
       "True"
      ]
     },
     "execution_count": 6,
     "metadata": {},
     "output_type": "execute_result"
    }
   ],
   "source": [
    "cv2.imwrite('cartoon.jpeg',cartoon)"
   ]
  },
  {
   "cell_type": "code",
   "execution_count": null,
   "id": "7ee2b497",
   "metadata": {},
   "outputs": [],
   "source": []
  }
 ],
 "metadata": {
  "kernelspec": {
   "display_name": "Python 3 (ipykernel)",
   "language": "python",
   "name": "python3"
  },
  "language_info": {
   "codemirror_mode": {
    "name": "ipython",
    "version": 3
   },
   "file_extension": ".py",
   "mimetype": "text/x-python",
   "name": "python",
   "nbconvert_exporter": "python",
   "pygments_lexer": "ipython3",
   "version": "3.9.7"
  }
 },
 "nbformat": 4,
 "nbformat_minor": 5
}
