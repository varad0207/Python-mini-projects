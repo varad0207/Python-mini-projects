{
 "cells": [
  {
   "cell_type": "markdown",
   "id": "741b4bd3",
   "metadata": {},
   "source": [
    "# Game 1: Tic Tac Toe"
   ]
  },
  {
   "cell_type": "code",
   "execution_count": 1,
   "id": "9395c195",
   "metadata": {},
   "outputs": [],
   "source": [
    "board = [' '] * 9"
   ]
  },
  {
   "cell_type": "code",
   "execution_count": 2,
   "id": "1468da4b",
   "metadata": {},
   "outputs": [],
   "source": [
    "# choose a random player\n",
    "import random\n",
    "\n",
    "# function to choose a random player\n",
    "def choose_player():\n",
    "    if random.randint(0,1) == 0:\n",
    "        return 'Player 1'\n",
    "    else:\n",
    "        return 'Player 2'"
   ]
  },
  {
   "cell_type": "code",
   "execution_count": 3,
   "id": "642a1fbd",
   "metadata": {},
   "outputs": [],
   "source": [
    "# display board\n",
    "# clear output\n",
    "from IPython.display import clear_output\n",
    "\n",
    "# function to display board\n",
    "def display_board(board):\n",
    "    clear_output()\n",
    "    \n",
    "    print(board[6]+' | '+board[7]+' | '+board[8])\n",
    "    print('---------')\n",
    "    print(board[3]+' | '+board[4]+' | '+board[5])\n",
    "    print('---------')\n",
    "    print(board[0]+' | '+board[1]+' | '+board[2])"
   ]
  },
  {
   "cell_type": "code",
   "execution_count": 4,
   "id": "336cbd66",
   "metadata": {},
   "outputs": [],
   "source": [
    "# ask player to choose marker\n",
    "# function to take user input\n",
    "def user_ip():\n",
    "    marker = ''\n",
    "    \n",
    "    while not (marker == 'X' or marker == 'O'):\n",
    "        marker = input('Player 1, do you want to mark X or O? : ').upper()\n",
    "    \n",
    "    if marker == 'X':\n",
    "        return ('X','O')\n",
    "    elif marker == 'O':\n",
    "        return ('O','X')"
   ]
  },
  {
   "cell_type": "code",
   "execution_count": 5,
   "id": "21aef014",
   "metadata": {},
   "outputs": [],
   "source": [
    "# place marker on board\n",
    "# function to place marker at desired position\n",
    "def place_marker(board,marker,pos):\n",
    "    board[pos] = marker"
   ]
  },
  {
   "cell_type": "code",
   "execution_count": 6,
   "id": "3497eba7",
   "metadata": {},
   "outputs": [],
   "source": [
    "# check if game is won\n",
    "# function to check if a player has won\n",
    "def check_win(board,mark):\n",
    "    return ((board[0]==mark and board[1]==mark and board[2]==mark) or\n",
    "    (board[3]==mark and board[4]==mark and board[5]==mark) or\n",
    "    (board[6]==mark and board[7]==mark and board[8]==mark) or\n",
    "    (board[0]==mark and board[3]==mark and board[6]==mark) or\n",
    "    (board[1]==mark and board[4]==mark and board[7]==mark) or\n",
    "    (board[2]==mark and board[5]==mark and board[8]==mark) or\n",
    "    (board[2]==mark and board[4]==mark and board[6]==mark) or\n",
    "    (board[0]==mark and board[4]==mark and board[8]==mark))"
   ]
  },
  {
   "cell_type": "code",
   "execution_count": 7,
   "id": "01d96773",
   "metadata": {},
   "outputs": [],
   "source": [
    "# check if board is free\n",
    "# function to check if free space is available\n",
    "def space_free(board,i):\n",
    "    return board[i]==' '\n",
    "\n",
    "# function to check if board is full\n",
    "def full_board(board):\n",
    "    for i in range(0,9):\n",
    "        if space_free(board,i):\n",
    "            return False\n",
    "    return True"
   ]
  },
  {
   "cell_type": "code",
   "execution_count": 8,
   "id": "aee6470c",
   "metadata": {},
   "outputs": [],
   "source": [
    "# ask user to place marker at a position\n",
    "# function to take position input from player\n",
    "def input_pos(board):\n",
    "    pos = 9\n",
    "    while pos not in [0,1,2,3,4,5,6,7,8] or not space_free(board,pos):\n",
    "        pos = int(input('Enter position(0-8): '))\n",
    "    \n",
    "    return pos"
   ]
  },
  {
   "cell_type": "code",
   "execution_count": 9,
   "id": "abdd83f3",
   "metadata": {},
   "outputs": [],
   "source": [
    "# ask if want to play again\n",
    "def replay():\n",
    "    again = input('Do you want to play again? (y/n): ').upper()\n",
    "    if again == 'Y':\n",
    "        return True\n",
    "    else:\n",
    "        return False"
   ]
  },
  {
   "cell_type": "code",
   "execution_count": 10,
   "id": "36f6db89",
   "metadata": {},
   "outputs": [
    {
     "name": "stdout",
     "output_type": "stream",
     "text": [
      "X | O | X\n",
      "---------\n",
      "X | O |  \n",
      "---------\n",
      "X |   | O\n",
      "Congratulations! Player 1 won the game!\n",
      "Do you want to play again? (y/n): n\n"
     ]
    }
   ],
   "source": [
    "# game implementation\n",
    "print('Welcome to Tic Tac Toe!')\n",
    "\n",
    "while True:\n",
    "    p1,p2 = user_ip()\n",
    "    turn = choose_player()\n",
    "    print(turn+' will go first')\n",
    "    \n",
    "    play=input('Are you ready to play? (y/n): ').upper()\n",
    "    if play == 'Y':\n",
    "        game = True\n",
    "    else:\n",
    "        game = False\n",
    "        \n",
    "    while game:\n",
    "        # check turn of player\n",
    "        \n",
    "        # Player 1's turn\n",
    "        if turn == 'Player 1':\n",
    "            \n",
    "            display_board(board)\n",
    "            position = input_pos(board)\n",
    "            place_marker(board,p1,position)\n",
    "            \n",
    "            if check_win(board,p1):\n",
    "                display_board(board)\n",
    "                print('Congratulations! Player 1 won the game!')\n",
    "                game = False\n",
    "            else:\n",
    "                if full_board(board):\n",
    "                    print('Game is a draw')\n",
    "                    break\n",
    "                else:\n",
    "                    turn = 'Player 2'\n",
    "        \n",
    "        # Player 2's turn\n",
    "        else:\n",
    "            display_board(board)\n",
    "            position = input_pos(board)\n",
    "            place_marker(board,p2,position)\n",
    "            \n",
    "            if check_win(board,p2):\n",
    "                display_board(board)\n",
    "                print('Congratulations! Player 2 won the game!')\n",
    "                game = False\n",
    "            else:\n",
    "                if full_board(board):\n",
    "                    print('Game is a draw')\n",
    "                    break\n",
    "                else:\n",
    "                    turn = 'Player 1'\n",
    "                    \n",
    "    if not replay():\n",
    "            break"
   ]
  },
  {
   "cell_type": "code",
   "execution_count": null,
   "id": "76fb24b5",
   "metadata": {},
   "outputs": [],
   "source": []
  }
 ],
 "metadata": {
  "kernelspec": {
   "display_name": "Python 3 (ipykernel)",
   "language": "python",
   "name": "python3"
  },
  "language_info": {
   "codemirror_mode": {
    "name": "ipython",
    "version": 3
   },
   "file_extension": ".py",
   "mimetype": "text/x-python",
   "name": "python",
   "nbconvert_exporter": "python",
   "pygments_lexer": "ipython3",
   "version": "3.9.7"
  }
 },
 "nbformat": 4,
 "nbformat_minor": 5
}
